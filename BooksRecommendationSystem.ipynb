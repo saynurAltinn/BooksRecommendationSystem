{
 "cells": [
  {
   "cell_type": "code",
   "execution_count": 1,
   "metadata": {},
   "outputs": [],
   "source": [
    "import pandas\n",
    "import numpy as np\n",
    "import matplotlib.pyplot as plt\n",
    "%matplotlib inline\n",
    "\n",
    "from pyspark.ml.evaluation import RegressionEvaluator\n",
    "from pyspark.ml.recommendation import ALS\n",
    "from pyspark.ml.tuning import CrossValidator, ParamGridBuilder\n",
    "from pyspark.sql import Row\n",
    "from pyspark.sql import functions as F\n",
    "from pyspark.sql import DataFrameNaFunctions as DFna\n",
    "from pyspark.sql.functions import udf, col, when\n",
    "from pyspark.sql import SparkSession\n",
    "from pyspark import SparkContext, SparkConf\n",
    "from pyspark.ml.feature import StringIndexer\n",
    "from pyspark.ml.tuning import ParamGridBuilder, TrainValidationSplit,CrossValidator\n",
    "from pyspark.ml.evaluation import RegressionEvaluator\n",
    "from pyspark.ml.recommendation import ALS"
   ]
  },
  {
   "cell_type": "code",
   "execution_count": 2,
   "metadata": {},
   "outputs": [
    {
     "name": "stdout",
     "output_type": "stream",
     "text": [
      "Hostname :  DESKTOP-4MJH10P\n",
      "ID :  192.168.56.1\n"
     ]
    }
   ],
   "source": [
    "import socket\n",
    "\n",
    "def get_Host_name_IP():\n",
    "    try:\n",
    "        host_name = socket.gethostname()\n",
    "        host_ip = socket.gethostbyname(host_name)\n",
    "        print(\"Hostname : \", host_name)\n",
    "        print(\"ID : \", host_ip)\n",
    "    except:\n",
    "        print(\"enable to get hostname and ip\")\n",
    "\n",
    "get_Host_name_IP()"
   ]
  },
  {
   "cell_type": "code",
   "execution_count": 3,
   "metadata": {},
   "outputs": [],
   "source": [
    "spark = SparkSession.builder.getOrCreate()"
   ]
  },
  {
   "cell_type": "code",
   "execution_count": 4,
   "metadata": {},
   "outputs": [
    {
     "name": "stdout",
     "output_type": "stream",
     "text": [
      "root\n",
      " |-- user_id: integer (nullable = true)\n",
      " |-- book_id: integer (nullable = true)\n",
      " |-- rating: integer (nullable = true)\n",
      "\n"
     ]
    }
   ],
   "source": [
    "ratingsData = spark.read.csv('ratings.csv',\n",
    "                         header=True, \n",
    "                         quote='\"',     \n",
    "                         sep=\",\",        \n",
    "                         inferSchema=True)  \n",
    "ratingsData.printSchema()"
   ]
  },
  {
   "cell_type": "code",
   "execution_count": 5,
   "metadata": {},
   "outputs": [
    {
     "data": {
      "text/html": [
       "<div>\n",
       "<style scoped>\n",
       "    .dataframe tbody tr th:only-of-type {\n",
       "        vertical-align: middle;\n",
       "    }\n",
       "\n",
       "    .dataframe tbody tr th {\n",
       "        vertical-align: top;\n",
       "    }\n",
       "\n",
       "    .dataframe thead th {\n",
       "        text-align: right;\n",
       "    }\n",
       "</style>\n",
       "<table border=\"1\" class=\"dataframe\">\n",
       "  <thead>\n",
       "    <tr style=\"text-align: right;\">\n",
       "      <th></th>\n",
       "      <th>user_id</th>\n",
       "      <th>book_id</th>\n",
       "      <th>rating</th>\n",
       "    </tr>\n",
       "  </thead>\n",
       "  <tbody>\n",
       "    <tr>\n",
       "      <th>0</th>\n",
       "      <td>1</td>\n",
       "      <td>258</td>\n",
       "      <td>5</td>\n",
       "    </tr>\n",
       "    <tr>\n",
       "      <th>1</th>\n",
       "      <td>2</td>\n",
       "      <td>4081</td>\n",
       "      <td>4</td>\n",
       "    </tr>\n",
       "    <tr>\n",
       "      <th>2</th>\n",
       "      <td>2</td>\n",
       "      <td>260</td>\n",
       "      <td>5</td>\n",
       "    </tr>\n",
       "    <tr>\n",
       "      <th>3</th>\n",
       "      <td>2</td>\n",
       "      <td>9296</td>\n",
       "      <td>5</td>\n",
       "    </tr>\n",
       "    <tr>\n",
       "      <th>4</th>\n",
       "      <td>2</td>\n",
       "      <td>2318</td>\n",
       "      <td>3</td>\n",
       "    </tr>\n",
       "  </tbody>\n",
       "</table>\n",
       "</div>"
      ],
      "text/plain": [
       "   user_id  book_id  rating\n",
       "0        1      258       5\n",
       "1        2     4081       4\n",
       "2        2      260       5\n",
       "3        2     9296       5\n",
       "4        2     2318       3"
      ]
     },
     "execution_count": 5,
     "metadata": {},
     "output_type": "execute_result"
    }
   ],
   "source": [
    "ratingsData.toPandas().head()"
   ]
  },
  {
   "cell_type": "code",
   "execution_count": 6,
   "metadata": {},
   "outputs": [],
   "source": [
    "ratingsRDD=ratingsData.select(col(\"user_id\").cast(\"int\"),col(\"book_id\").cast(\"int\"),col(\"rating\").cast(\"int\"))"
   ]
  },
  {
   "cell_type": "code",
   "execution_count": 7,
   "metadata": {},
   "outputs": [
    {
     "data": {
      "image/png": "[encoded data removed]",
      "text/plain": [
       "<Figure size 432x288 with 1 Axes>"
      ]
     },
     "metadata": {
      "needs_background": "light"
     },
     "output_type": "display_data"
    }
   ],
   "source": [
    "ratingsRDD.toPandas()['rating'].hist()\n",
    "plt.show()"
   ]
  },
  {
   "cell_type": "code",
   "execution_count": 8,
   "metadata": {},
   "outputs": [],
   "source": [
    "(ratings_train, ratings_test) = ratingsRDD.randomSplit([0.7,0.3],seed=5011)"
   ]
  },
  {
   "cell_type": "code",
   "execution_count": 9,
   "metadata": {},
   "outputs": [
    {
     "name": "stdout",
     "output_type": "stream",
     "text": [
      "rank:  1 iteration:  5 lambda:  0.01 rmse:  0.861462938018098 mse:  0.7421183935787734\n",
      "rank:  2 iteration:  5 lambda:  0.01 rmse:  0.8399685943574555 mse:  0.7055472395068396\n",
      "rank:  3 iteration:  5 lambda:  0.01 rmse:  0.8489453660945375 mse:  0.7207082346133883\n",
      "rank:  1 iteration:  8 lambda:  0.01 rmse:  0.8593104736956527 mse:  0.7384144902030471\n",
      "rank:  2 iteration:  8 lambda:  0.01 rmse:  0.8362009173226375 mse:  0.6992319741312204\n",
      "rank:  3 iteration:  8 lambda:  0.01 rmse:  0.835836462661053 mse:  0.6986225923137419\n",
      "rank:  1 iteration:  10 lambda:  0.01 rmse:  0.858818039643558 mse:  0.7375684252172039\n",
      "rank:  2 iteration:  10 lambda:  0.01 rmse:  0.8355538210856466 mse:  0.6981501879308247\n",
      "rank:  3 iteration:  10 lambda:  0.01 rmse:  0.8343379073656149 mse:  0.6961197436672333\n",
      "rank:  1 iteration:  5 lambda:  0.1 rmse:  0.8666173041702795 mse:  0.7510255518873628\n",
      "rank:  2 iteration:  5 lambda:  0.1 rmse:  0.8458292738429611 mse:  0.7154271604897109\n",
      "rank:  3 iteration:  5 lambda:  0.1 rmse:  0.8562575007796793 mse:  0.7331769076414626\n",
      "rank:  1 iteration:  8 lambda:  0.1 rmse:  0.8644093369028262 mse:  0.7472035017247837\n",
      "rank:  2 iteration:  8 lambda:  0.1 rmse:  0.8413165237237344 mse:  0.707813493090589\n",
      "rank:  3 iteration:  8 lambda:  0.1 rmse:  0.8414196298825927 mse:  0.7079869935517592\n",
      "rank:  1 iteration:  10 lambda:  0.1 rmse:  0.8637623875648835 mse:  0.7460854621717881\n",
      "rank:  2 iteration:  10 lambda:  0.1 rmse:  0.8406490893642322 mse:  0.7066908914489128\n",
      "rank:  3 iteration:  10 lambda:  0.1 rmse:  0.8391242527276567 mse:  0.7041295115157482\n",
      "best rank:  3 best iteration:  10 best lambda:  0.01\n"
     ]
    }
   ],
   "source": [
    "numbers=range(0,2)\n",
    "iterations = [5,8,10]\n",
    "ranks = [1,2,3]\n",
    "lambdas=[0.01,0.1]\n",
    "errors = []\n",
    "min_error = float('inf')\n",
    "best_rank = -1\n",
    "best_iteration = -1\n",
    "best_lambda = -1\n",
    "for j in numbers:\n",
    "    for iteration in iterations:\n",
    "        for rank in ranks:\n",
    "            als = ALS(maxIter=iteration, regParam=lambdas[j], rank=rank, userCol=\"user_id\", itemCol=\"book_id\", ratingCol=\"rating\")\n",
    "            model = als.fit(ratings_train)\n",
    "            predictions = model.transform(ratings_test)\n",
    "            new_predictions = predictions.filter(col('prediction') != np.nan)\n",
    "            evaluator = RegressionEvaluator(metricName=\"rmse\", labelCol=\"rating\", predictionCol=\"prediction\")\n",
    "            rmse = evaluator.evaluate(new_predictions)\n",
    "            mse = rmse*rmse\n",
    "            errors.append(rmse)\n",
    "\n",
    "            print(\"rank: \",rank,\"iteration: \",iteration,\"lambda: \",lambdas[j],\"rmse: \",rmse,\"mse: \",mse)\n",
    "            if rmse < min_error:\n",
    "                min_error = rmse\n",
    "                best_rank = rank\n",
    "                best_iteration = iteration\n",
    "                best_lambda = lambdas[j]\n",
    "print(\"best rank: \",best_rank,\"best iteration: \",best_iteration,\"best lambda: \",best_lambda)"
   ]
  },
  {
   "cell_type": "code",
   "execution_count": 10,
   "metadata": {},
   "outputs": [
    {
     "name": "stdout",
     "output_type": "stream",
     "text": [
      "root mean squared error :  0.8343379073656149\n",
      "mean squared error :  0.6961197436672333\n"
     ]
    }
   ],
   "source": [
    "final_als = ALS(maxIter=10, regParam=0.01, rank=3, userCol=\"user_id\", itemCol=\"book_id\", ratingCol=\"rating\")\n",
    "final_model = final_als.fit(ratings_train)\n",
    "final_pred = final_model.transform(ratings_test)\n",
    "final_pred = final_pred.filter(col('prediction') != np.nan)\n",
    "rmse = evaluator.evaluate(final_pred)\n",
    "mse = rmse*rmse\n",
    "print(\"root mean squared error : \",rmse)\n",
    "print(\"mean squared error : \",mse)"
   ]
  },
  {
   "cell_type": "code",
   "execution_count": 11,
   "metadata": {},
   "outputs": [
    {
     "data": {
      "text/plain": [
       "[Row(user_id=6397, book_id=148, rating=4, prediction=3.7223243713378906),\n",
       " Row(user_id=9427, book_id=148, rating=3, prediction=3.6213538646698),\n",
       " Row(user_id=10206, book_id=148, rating=5, prediction=3.7839243412017822),\n",
       " Row(user_id=20924, book_id=148, rating=3, prediction=3.6558005809783936),\n",
       " Row(user_id=28124, book_id=148, rating=5, prediction=4.00152587890625),\n",
       " Row(user_id=28170, book_id=148, rating=4, prediction=3.328535556793213),\n",
       " Row(user_id=35982, book_id=148, rating=3, prediction=3.431757926940918),\n",
       " Row(user_id=47217, book_id=148, rating=4, prediction=3.6324801445007324),\n",
       " Row(user_id=50223, book_id=148, rating=4, prediction=4.049578666687012),\n",
       " Row(user_id=14465, book_id=148, rating=5, prediction=4.356509208679199)]"
      ]
     },
     "execution_count": 11,
     "metadata": {},
     "output_type": "execute_result"
    }
   ],
   "source": [
    "final_pred.take(10)"
   ]
  },
  {
   "cell_type": "code",
   "execution_count": 12,
   "metadata": {},
   "outputs": [
    {
     "data": {
      "text/plain": [
       "[Row(user_id=148),\n",
       " Row(user_id=10567),\n",
       " Row(user_id=48367),\n",
       " Row(user_id=50223),\n",
       " Row(user_id=6397),\n",
       " Row(user_id=14465)]"
      ]
     },
     "execution_count": 12,
     "metadata": {},
     "output_type": "execute_result"
    }
   ],
   "source": [
    "from pyspark.sql.types import IntegerType\n",
    "\n",
    "usersList = [148, 10567, 48367, 50223, 6397, 14465]\n",
    "\n",
    "usersDF = spark.createDataFrame(usersList, IntegerType()).toDF(\"user_id\")\n",
    "\n",
    "usersDF.take(6)"
   ]
  },
  {
   "cell_type": "code",
   "execution_count": 13,
   "metadata": {},
   "outputs": [
    {
     "data": {
      "text/html": [
       "<div>\n",
       "<style scoped>\n",
       "    .dataframe tbody tr th:only-of-type {\n",
       "        vertical-align: middle;\n",
       "    }\n",
       "\n",
       "    .dataframe tbody tr th {\n",
       "        vertical-align: top;\n",
       "    }\n",
       "\n",
       "    .dataframe thead th {\n",
       "        text-align: right;\n",
       "    }\n",
       "</style>\n",
       "<table border=\"1\" class=\"dataframe\">\n",
       "  <thead>\n",
       "    <tr style=\"text-align: right;\">\n",
       "      <th></th>\n",
       "      <th>user_id</th>\n",
       "      <th>recommendations</th>\n",
       "    </tr>\n",
       "  </thead>\n",
       "  <tbody>\n",
       "    <tr>\n",
       "      <th>0</th>\n",
       "      <td>148</td>\n",
       "      <td>[(8946, 4.5890398025512695), (3628, 4.47446870...</td>\n",
       "    </tr>\n",
       "    <tr>\n",
       "      <th>1</th>\n",
       "      <td>6397</td>\n",
       "      <td>[(862, 4.5771918296813965), (3628, 4.537082672...</td>\n",
       "    </tr>\n",
       "    <tr>\n",
       "      <th>2</th>\n",
       "      <td>50223</td>\n",
       "      <td>[(1338, 5.433267116546631), (4868, 5.393134593...</td>\n",
       "    </tr>\n",
       "    <tr>\n",
       "      <th>3</th>\n",
       "      <td>14465</td>\n",
       "      <td>[(862, 5.302934646606445), (3628, 5.2167997360...</td>\n",
       "    </tr>\n",
       "    <tr>\n",
       "      <th>4</th>\n",
       "      <td>10567</td>\n",
       "      <td>[(8946, 6.1116108894348145), (3628, 6.10078382...</td>\n",
       "    </tr>\n",
       "    <tr>\n",
       "      <th>5</th>\n",
       "      <td>48367</td>\n",
       "      <td>[(862, 6.271950721740723), (3628, 6.1940903663...</td>\n",
       "    </tr>\n",
       "  </tbody>\n",
       "</table>\n",
       "</div>"
      ],
      "text/plain": [
       "   user_id                                    recommendations\n",
       "0      148  [(8946, 4.5890398025512695), (3628, 4.47446870...\n",
       "1     6397  [(862, 4.5771918296813965), (3628, 4.537082672...\n",
       "2    50223  [(1338, 5.433267116546631), (4868, 5.393134593...\n",
       "3    14465  [(862, 5.302934646606445), (3628, 5.2167997360...\n",
       "4    10567  [(8946, 6.1116108894348145), (3628, 6.10078382...\n",
       "5    48367  [(862, 6.271950721740723), (3628, 6.1940903663..."
      ]
     },
     "execution_count": 13,
     "metadata": {},
     "output_type": "execute_result"
    }
   ],
   "source": [
    "userRecs = model.recommendForUserSubset(usersDF, 5)\n",
    "\n",
    "userRecs.toPandas()"
   ]
  },
  {
   "cell_type": "code",
   "execution_count": 14,
   "metadata": {},
   "outputs": [
    {
     "data": {
      "text/plain": [
       "[Row(recommendations=[Row(book_id=862, rating=4.5771918296813965), Row(book_id=3628, rating=4.537082672119141), Row(book_id=6920, rating=4.513975620269775), Row(book_id=8946, rating=4.508277893066406), Row(book_id=9566, rating=4.502222537994385)])]"
      ]
     },
     "execution_count": 14,
     "metadata": {},
     "output_type": "execute_result"
    }
   ],
   "source": [
    "userBooksList = userRecs.filter(userRecs.user_id == 6397).select(\"recommendations\")\n",
    "\n",
    "userBooksList.collect()"
   ]
  },
  {
   "cell_type": "code",
   "execution_count": 15,
   "metadata": {},
   "outputs": [
    {
     "data": {
      "text/plain": [
       "[Row(book_id=862, rating=4.5771918296813965),\n",
       " Row(book_id=3628, rating=4.537082672119141),\n",
       " Row(book_id=6920, rating=4.513975620269775),\n",
       " Row(book_id=8946, rating=4.508277893066406),\n",
       " Row(book_id=9566, rating=4.502222537994385)]"
      ]
     },
     "execution_count": 15,
     "metadata": {},
     "output_type": "execute_result"
    }
   ],
   "source": [
    "booksList = userBooksList.collect()[0].recommendations\n",
    "\n",
    "booksList"
   ]
  },
  {
   "cell_type": "code",
   "execution_count": 16,
   "metadata": {},
   "outputs": [
    {
     "data": {
      "text/html": [
       "<div>\n",
       "<style scoped>\n",
       "    .dataframe tbody tr th:only-of-type {\n",
       "        vertical-align: middle;\n",
       "    }\n",
       "\n",
       "    .dataframe tbody tr th {\n",
       "        vertical-align: top;\n",
       "    }\n",
       "\n",
       "    .dataframe thead th {\n",
       "        text-align: right;\n",
       "    }\n",
       "</style>\n",
       "<table border=\"1\" class=\"dataframe\">\n",
       "  <thead>\n",
       "    <tr style=\"text-align: right;\">\n",
       "      <th></th>\n",
       "      <th>book_id</th>\n",
       "      <th>rating</th>\n",
       "    </tr>\n",
       "  </thead>\n",
       "  <tbody>\n",
       "    <tr>\n",
       "      <th>0</th>\n",
       "      <td>862</td>\n",
       "      <td>4.577192</td>\n",
       "    </tr>\n",
       "    <tr>\n",
       "      <th>1</th>\n",
       "      <td>3628</td>\n",
       "      <td>4.537083</td>\n",
       "    </tr>\n",
       "    <tr>\n",
       "      <th>2</th>\n",
       "      <td>6920</td>\n",
       "      <td>4.513976</td>\n",
       "    </tr>\n",
       "    <tr>\n",
       "      <th>3</th>\n",
       "      <td>8946</td>\n",
       "      <td>4.508278</td>\n",
       "    </tr>\n",
       "    <tr>\n",
       "      <th>4</th>\n",
       "      <td>9566</td>\n",
       "      <td>4.502223</td>\n",
       "    </tr>\n",
       "  </tbody>\n",
       "</table>\n",
       "</div>"
      ],
      "text/plain": [
       "   book_id    rating\n",
       "0      862  4.577192\n",
       "1     3628  4.537083\n",
       "2     6920  4.513976\n",
       "3     8946  4.508278\n",
       "4     9566  4.502223"
      ]
     },
     "execution_count": 16,
     "metadata": {},
     "output_type": "execute_result"
    }
   ],
   "source": [
    "booksDF = spark.createDataFrame(booksList)\n",
    "booksDF.toPandas()"
   ]
  },
  {
   "cell_type": "code",
   "execution_count": 17,
   "metadata": {},
   "outputs": [
    {
     "name": "stdout",
     "output_type": "stream",
     "text": [
      "root\n",
      " |-- book_id: integer (nullable = true)\n",
      " |-- goodreads_book_id: integer (nullable = true)\n",
      " |-- best_book_id: integer (nullable = true)\n",
      " |-- work_id: integer (nullable = true)\n",
      " |-- books_count: integer (nullable = true)\n",
      " |-- isbn: string (nullable = true)\n",
      " |-- isbn13: double (nullable = true)\n",
      " |-- authors: string (nullable = true)\n",
      " |-- original_publication_year: double (nullable = true)\n",
      " |-- original_title: string (nullable = true)\n",
      " |-- title: string (nullable = true)\n",
      " |-- language_code: string (nullable = true)\n",
      " |-- average_rating: string (nullable = true)\n",
      " |-- ratings_count: string (nullable = true)\n",
      " |-- work_ratings_count: string (nullable = true)\n",
      " |-- work_text_reviews_count: string (nullable = true)\n",
      " |-- ratings_1: double (nullable = true)\n",
      " |-- ratings_2: integer (nullable = true)\n",
      " |-- ratings_3: integer (nullable = true)\n",
      " |-- ratings_4: integer (nullable = true)\n",
      " |-- ratings_5: integer (nullable = true)\n",
      " |-- image_url: string (nullable = true)\n",
      " |-- small_image_url: string (nullable = true)\n",
      "\n"
     ]
    }
   ],
   "source": [
    "booksData =  spark.read.csv('books.csv',\n",
    "                         header=True, \n",
    "                         quote='\"',     \n",
    "                         sep=\",\",        \n",
    "                         inferSchema=True)  \n",
    "booksData.head()\n",
    "booksData.printSchema()"
   ]
  },
  {
   "cell_type": "code",
   "execution_count": 18,
   "metadata": {},
   "outputs": [
    {
     "name": "stdout",
     "output_type": "stream",
     "text": [
      "root\n",
      " |-- book_id: integer (nullable = true)\n",
      " |-- authors: string (nullable = true)\n",
      " |-- title: string (nullable = true)\n",
      "\n"
     ]
    }
   ],
   "source": [
    "booksData = booksData.drop('goodreads_book_id','best_book_id','work_id','books_count','isbn','isbn13','original_publication_year','original_title','language_code','average_rating','ratings_count','work_ratings_count','work_text_reviews_count','ratings_1','ratings_2','ratings_3','ratings_4','ratings_5','image_url','small_image_url')\n",
    "booksData.printSchema()"
   ]
  },
  {
   "cell_type": "code",
   "execution_count": 19,
   "metadata": {},
   "outputs": [
    {
     "data": {
      "text/html": [
       "<div>\n",
       "<style scoped>\n",
       "    .dataframe tbody tr th:only-of-type {\n",
       "        vertical-align: middle;\n",
       "    }\n",
       "\n",
       "    .dataframe tbody tr th {\n",
       "        vertical-align: top;\n",
       "    }\n",
       "\n",
       "    .dataframe thead th {\n",
       "        text-align: right;\n",
       "    }\n",
       "</style>\n",
       "<table border=\"1\" class=\"dataframe\">\n",
       "  <thead>\n",
       "    <tr style=\"text-align: right;\">\n",
       "      <th></th>\n",
       "      <th>book_id</th>\n",
       "      <th>authors</th>\n",
       "      <th>title</th>\n",
       "    </tr>\n",
       "  </thead>\n",
       "  <tbody>\n",
       "    <tr>\n",
       "      <th>0</th>\n",
       "      <td>1</td>\n",
       "      <td>Suzanne Collins</td>\n",
       "      <td>The Hunger Games (The Hunger Games, #1)</td>\n",
       "    </tr>\n",
       "    <tr>\n",
       "      <th>1</th>\n",
       "      <td>2</td>\n",
       "      <td>J.K. Rowling, Mary GrandPré</td>\n",
       "      <td>Harry Potter and the Sorcerer's Stone (Harry P...</td>\n",
       "    </tr>\n",
       "    <tr>\n",
       "      <th>2</th>\n",
       "      <td>3</td>\n",
       "      <td>Stephenie Meyer</td>\n",
       "      <td>Twilight (Twilight, #1)</td>\n",
       "    </tr>\n",
       "    <tr>\n",
       "      <th>3</th>\n",
       "      <td>4</td>\n",
       "      <td>Harper Lee</td>\n",
       "      <td>To Kill a Mockingbird</td>\n",
       "    </tr>\n",
       "    <tr>\n",
       "      <th>4</th>\n",
       "      <td>5</td>\n",
       "      <td>F. Scott Fitzgerald</td>\n",
       "      <td>The Great Gatsby</td>\n",
       "    </tr>\n",
       "  </tbody>\n",
       "</table>\n",
       "</div>"
      ],
      "text/plain": [
       "   book_id                      authors  \\\n",
       "0        1              Suzanne Collins   \n",
       "1        2  J.K. Rowling, Mary GrandPré   \n",
       "2        3              Stephenie Meyer   \n",
       "3        4                   Harper Lee   \n",
       "4        5          F. Scott Fitzgerald   \n",
       "\n",
       "                                               title  \n",
       "0            The Hunger Games (The Hunger Games, #1)  \n",
       "1  Harry Potter and the Sorcerer's Stone (Harry P...  \n",
       "2                            Twilight (Twilight, #1)  \n",
       "3                              To Kill a Mockingbird  \n",
       "4                                   The Great Gatsby  "
      ]
     },
     "execution_count": 19,
     "metadata": {},
     "output_type": "execute_result"
    }
   ],
   "source": [
    "booksData.toPandas().head()"
   ]
  },
  {
   "cell_type": "code",
   "execution_count": 20,
   "metadata": {},
   "outputs": [
    {
     "data": {
      "image/png": "[encoded data removed]",
      "text/plain": [
       "<Figure size 432x288 with 1 Axes>"
      ]
     },
     "metadata": {
      "needs_background": "light"
     },
     "output_type": "display_data"
    }
   ],
   "source": [
    "authorsIndexer = StringIndexer(inputCol=\"authors\", outputCol=\"bookauthors\",handleInvalid='error') \n",
    "authorsIndexed = authorsIndexer.fit(booksData).transform(booksData) \n",
    "booksInd = authorsIndexed.drop('authors')\n",
    "booksInd.toPandas()['bookauthors'].hist()\n",
    "plt.show()"
   ]
  },
  {
   "cell_type": "code",
   "execution_count": 21,
   "metadata": {},
   "outputs": [
    {
     "data": {
      "text/html": [
       "<div>\n",
       "<style scoped>\n",
       "    .dataframe tbody tr th:only-of-type {\n",
       "        vertical-align: middle;\n",
       "    }\n",
       "\n",
       "    .dataframe tbody tr th {\n",
       "        vertical-align: top;\n",
       "    }\n",
       "\n",
       "    .dataframe thead th {\n",
       "        text-align: right;\n",
       "    }\n",
       "</style>\n",
       "<table border=\"1\" class=\"dataframe\">\n",
       "  <thead>\n",
       "    <tr style=\"text-align: right;\">\n",
       "      <th></th>\n",
       "      <th>authors</th>\n",
       "      <th>title</th>\n",
       "      <th>rating</th>\n",
       "    </tr>\n",
       "  </thead>\n",
       "  <tbody>\n",
       "    <tr>\n",
       "      <th>0</th>\n",
       "      <td>Brandon Sanderson</td>\n",
       "      <td>Words of Radiance (The Stormlight Archive, #2)</td>\n",
       "      <td>4.577192</td>\n",
       "    </tr>\n",
       "    <tr>\n",
       "      <th>1</th>\n",
       "      <td>Bill Watterson</td>\n",
       "      <td>The Complete Calvin and Hobbes</td>\n",
       "      <td>4.537083</td>\n",
       "    </tr>\n",
       "    <tr>\n",
       "      <th>2</th>\n",
       "      <td>Bill Watterson</td>\n",
       "      <td>The Indispensable Calvin and Hobbes</td>\n",
       "      <td>4.513976</td>\n",
       "    </tr>\n",
       "    <tr>\n",
       "      <th>3</th>\n",
       "      <td>Hafez</td>\n",
       "      <td>The Divan</td>\n",
       "      <td>4.508278</td>\n",
       "    </tr>\n",
       "    <tr>\n",
       "      <th>4</th>\n",
       "      <td>Bill Watterson</td>\n",
       "      <td>Attack of the Deranged Mutant Killer Monster S...</td>\n",
       "      <td>4.502223</td>\n",
       "    </tr>\n",
       "  </tbody>\n",
       "</table>\n",
       "</div>"
      ],
      "text/plain": [
       "             authors                                              title  \\\n",
       "0  Brandon Sanderson     Words of Radiance (The Stormlight Archive, #2)   \n",
       "1     Bill Watterson                     The Complete Calvin and Hobbes   \n",
       "2     Bill Watterson                The Indispensable Calvin and Hobbes   \n",
       "3              Hafez                                          The Divan   \n",
       "4     Bill Watterson  Attack of the Deranged Mutant Killer Monster S...   \n",
       "\n",
       "     rating  \n",
       "0  4.577192  \n",
       "1  4.537083  \n",
       "2  4.513976  \n",
       "3  4.508278  \n",
       "4  4.502223  "
      ]
     },
     "execution_count": 21,
     "metadata": {},
     "output_type": "execute_result"
    }
   ],
   "source": [
    "recommendedBooks = booksData.join(booksDF, on=[\"book_id\"]).orderBy(\"rating\", ascending=False).select(\"authors\", \"title\", \"rating\")\n",
    "\n",
    "recommendedBooks.toPandas().head()"
   ]
  },
  {
   "cell_type": "code",
   "execution_count": 22,
   "metadata": {},
   "outputs": [
    {
     "data": {
      "image/png": "[encoded data removed]",
      "text/plain": [
       "<Figure size 432x288 with 1 Axes>"
      ]
     },
     "metadata": {
      "needs_background": "light"
     },
     "output_type": "display_data"
    }
   ],
   "source": [
    "recommendedBooks.toPandas()['authors'].hist()\n",
    "plt.show()"
   ]
  },
  {
   "cell_type": "code",
   "execution_count": 23,
   "metadata": {},
   "outputs": [
    {
     "data": {
      "image/png": "[encoded data removed]",
      "text/plain": [
       "<Figure size 432x288 with 1 Axes>"
      ]
     },
     "metadata": {
      "needs_background": "light"
     },
     "output_type": "display_data"
    }
   ],
   "source": [
    "recommendedBooks.toPandas()['rating'].hist()\n",
    "plt.show()"
   ]
  },
  {
   "cell_type": "code",
   "execution_count": 24,
   "metadata": {},
   "outputs": [],
   "source": [
    "from pyspark.sql.types import IntegerType\n",
    "\n",
    "def getRecommendationsForUser(userID, numRecs):\n",
    "\n",
    "    usersDF = spark.    createDataFrame([userID], IntegerType()).    toDF(\"user_id\")\n",
    "\n",
    "    userRec = model.recommendForUserSubset(usersDF, numRecs)\n",
    "\n",
    "    bookList = userRec.collect()[0].recommendations\n",
    "\n",
    "    bookDF = spark.createDataFrame(bookList)\n",
    "\n",
    "    recommendedBooks = booksData.join(bookDF, on=[\"book_id\"])    .orderBy(\"rating\",   ascending=False)    .select(\"authors\", \"title\", \"rating\")\n",
    "\n",
    "    return recommendedBooks"
   ]
  },
  {
   "cell_type": "code",
   "execution_count": 25,
   "metadata": {},
   "outputs": [
    {
     "data": {
      "text/html": [
       "<div>\n",
       "<style scoped>\n",
       "    .dataframe tbody tr th:only-of-type {\n",
       "        vertical-align: middle;\n",
       "    }\n",
       "\n",
       "    .dataframe tbody tr th {\n",
       "        vertical-align: top;\n",
       "    }\n",
       "\n",
       "    .dataframe thead th {\n",
       "        text-align: right;\n",
       "    }\n",
       "</style>\n",
       "<table border=\"1\" class=\"dataframe\">\n",
       "  <thead>\n",
       "    <tr style=\"text-align: right;\">\n",
       "      <th></th>\n",
       "      <th>authors</th>\n",
       "      <th>title</th>\n",
       "      <th>rating</th>\n",
       "    </tr>\n",
       "  </thead>\n",
       "  <tbody>\n",
       "    <tr>\n",
       "      <th>0</th>\n",
       "      <td>Bill Watterson</td>\n",
       "      <td>The Complete Calvin and Hobbes</td>\n",
       "      <td>4.419330</td>\n",
       "    </tr>\n",
       "    <tr>\n",
       "      <th>1</th>\n",
       "      <td>Brandon Sanderson</td>\n",
       "      <td>Words of Radiance (The Stormlight Archive, #2)</td>\n",
       "      <td>4.411098</td>\n",
       "    </tr>\n",
       "    <tr>\n",
       "      <th>2</th>\n",
       "      <td>Hafez</td>\n",
       "      <td>The Divan</td>\n",
       "      <td>4.408051</td>\n",
       "    </tr>\n",
       "    <tr>\n",
       "      <th>3</th>\n",
       "      <td>Bill Watterson</td>\n",
       "      <td>Attack of the Deranged Mutant Killer Monster S...</td>\n",
       "      <td>4.404571</td>\n",
       "    </tr>\n",
       "    <tr>\n",
       "      <th>4</th>\n",
       "      <td>Bill Watterson</td>\n",
       "      <td>The Indispensable Calvin and Hobbes</td>\n",
       "      <td>4.399302</td>\n",
       "    </tr>\n",
       "    <tr>\n",
       "      <th>5</th>\n",
       "      <td>Bill Watterson</td>\n",
       "      <td>The Authoritative Calvin and Hobbes: A Calvin ...</td>\n",
       "      <td>4.376561</td>\n",
       "    </tr>\n",
       "    <tr>\n",
       "      <th>6</th>\n",
       "      <td>James E. Talmage</td>\n",
       "      <td>Jesus the Christ</td>\n",
       "      <td>4.356478</td>\n",
       "    </tr>\n",
       "    <tr>\n",
       "      <th>7</th>\n",
       "      <td>Brandon Sanderson</td>\n",
       "      <td>The Way of Kings, Part 1 (The Stormlight Archi...</td>\n",
       "      <td>4.317127</td>\n",
       "    </tr>\n",
       "    <tr>\n",
       "      <th>8</th>\n",
       "      <td>J.K. Rowling</td>\n",
       "      <td>Harry Potter Boxset (Harry Potter, #1-7)</td>\n",
       "      <td>4.316428</td>\n",
       "    </tr>\n",
       "    <tr>\n",
       "      <th>9</th>\n",
       "      <td>Bill Watterson</td>\n",
       "      <td>There's Treasure Everywhere: A Calvin and Hobb...</td>\n",
       "      <td>4.314927</td>\n",
       "    </tr>\n",
       "  </tbody>\n",
       "</table>\n",
       "</div>"
      ],
      "text/plain": [
       "             authors                                              title  \\\n",
       "0     Bill Watterson                     The Complete Calvin and Hobbes   \n",
       "1  Brandon Sanderson     Words of Radiance (The Stormlight Archive, #2)   \n",
       "2              Hafez                                          The Divan   \n",
       "3     Bill Watterson  Attack of the Deranged Mutant Killer Monster S...   \n",
       "4     Bill Watterson                The Indispensable Calvin and Hobbes   \n",
       "5     Bill Watterson  The Authoritative Calvin and Hobbes: A Calvin ...   \n",
       "6   James E. Talmage                                   Jesus the Christ   \n",
       "7  Brandon Sanderson  The Way of Kings, Part 1 (The Stormlight Archi...   \n",
       "8       J.K. Rowling           Harry Potter Boxset (Harry Potter, #1-7)   \n",
       "9     Bill Watterson  There's Treasure Everywhere: A Calvin and Hobb...   \n",
       "\n",
       "     rating  \n",
       "0  4.419330  \n",
       "1  4.411098  \n",
       "2  4.408051  \n",
       "3  4.404571  \n",
       "4  4.399302  \n",
       "5  4.376561  \n",
       "6  4.356478  \n",
       "7  4.317127  \n",
       "8  4.316428  \n",
       "9  4.314927  "
      ]
     },
     "execution_count": 25,
     "metadata": {},
     "output_type": "execute_result"
    }
   ],
   "source": [
    "recommendationsForUser = getRecommendationsForUser(245, 10)\n",
    "\n",
    "recommendationsForUser.toPandas()"
   ]
  },
  {
   "cell_type": "code",
   "execution_count": 26,
   "metadata": {},
   "outputs": [
    {
     "data": {
      "text/html": [
       "<div>\n",
       "<style scoped>\n",
       "    .dataframe tbody tr th:only-of-type {\n",
       "        vertical-align: middle;\n",
       "    }\n",
       "\n",
       "    .dataframe tbody tr th {\n",
       "        vertical-align: top;\n",
       "    }\n",
       "\n",
       "    .dataframe thead th {\n",
       "        text-align: right;\n",
       "    }\n",
       "</style>\n",
       "<table border=\"1\" class=\"dataframe\">\n",
       "  <thead>\n",
       "    <tr style=\"text-align: right;\">\n",
       "      <th></th>\n",
       "      <th>authors</th>\n",
       "      <th>title</th>\n",
       "      <th>rating</th>\n",
       "    </tr>\n",
       "  </thead>\n",
       "  <tbody>\n",
       "    <tr>\n",
       "      <th>0</th>\n",
       "      <td>Hafez</td>\n",
       "      <td>The Divan</td>\n",
       "      <td>4.954007</td>\n",
       "    </tr>\n",
       "    <tr>\n",
       "      <th>1</th>\n",
       "      <td>George Saunders</td>\n",
       "      <td>Lincoln in the Bardo</td>\n",
       "      <td>4.663931</td>\n",
       "    </tr>\n",
       "    <tr>\n",
       "      <th>2</th>\n",
       "      <td>Roberto Bolaño</td>\n",
       "      <td>2666</td>\n",
       "      <td>4.545420</td>\n",
       "    </tr>\n",
       "    <tr>\n",
       "      <th>3</th>\n",
       "      <td>Ludwig Wittgenstein, G.E.M. Anscombe</td>\n",
       "      <td>Philosophical Investigations</td>\n",
       "      <td>4.518527</td>\n",
       "    </tr>\n",
       "    <tr>\n",
       "      <th>4</th>\n",
       "      <td>Nicholas Ganz, Tristan Manco</td>\n",
       "      <td>Graffiti World: Street Art from Five Continents</td>\n",
       "      <td>4.512042</td>\n",
       "    </tr>\n",
       "  </tbody>\n",
       "</table>\n",
       "</div>"
      ],
      "text/plain": [
       "                                authors  \\\n",
       "0                                 Hafez   \n",
       "1                       George Saunders   \n",
       "2                        Roberto Bolaño   \n",
       "3  Ludwig Wittgenstein, G.E.M. Anscombe   \n",
       "4          Nicholas Ganz, Tristan Manco   \n",
       "\n",
       "                                             title    rating  \n",
       "0                                        The Divan  4.954007  \n",
       "1                             Lincoln in the Bardo  4.663931  \n",
       "2                                             2666  4.545420  \n",
       "3                     Philosophical Investigations  4.518527  \n",
       "4  Graffiti World: Street Art from Five Continents  4.512042  "
      ]
     },
     "execution_count": 26,
     "metadata": {},
     "output_type": "execute_result"
    }
   ],
   "source": [
    "recommendationsForUser = getRecommendationsForUser(1003, 5)\n",
    "\n",
    "recommendationsForUser.toPandas()"
   ]
  },
  {
   "cell_type": "code",
   "execution_count": null,
   "metadata": {},
   "outputs": [],
   "source": []
  }
 ],
 "metadata": {
  "kernelspec": {
   "display_name": "Python 3",
   "language": "python",
   "name": "python3"
  },
  "language_info": {
   "codemirror_mode": {
    "name": "ipython",
    "version": 3
   },
   "file_extension": ".py",
   "mimetype": "text/x-python",
   "name": "python",
   "nbconvert_exporter": "python",
   "pygments_lexer": "ipython3",
   "version": "3.7.7"
  }
 },
 "nbformat": 4,
 "nbformat_minor": 4
}
